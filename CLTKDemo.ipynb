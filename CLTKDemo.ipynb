{
 "cells": [
  {
   "cell_type": "code",
   "execution_count": 83,
   "metadata": {
    "collapsed": false,
    "pycharm": {
     "name": "#%%\n"
    }
   },
   "outputs": [],
   "source": [
    "#playing around with CLTK\n",
    "from cltk import NLP\n",
    "from cltk.dependency.tree import DependencyTree"
   ]
  },
  {
   "cell_type": "code",
   "execution_count": 72,
   "metadata": {
    "collapsed": false,
    "pycharm": {
     "name": "#%%\n"
    }
   },
   "outputs": [
    {
     "name": "stdout",
     "output_type": "stream",
     "text": [
      "Text snippet: Iam primum omnium satis constat Troia capta in ceteros saevitum esse Troianos, duobus, Aeneae Antenorique, et vetusti iure hospitii et quia pacis reddendaeque Helenae semper auctores fuerant, omne ius\n",
      "Character count: 921462\n",
      "Approximate token count: 129799\n",
      "Approximate token count: 10905\n"
     ]
    }
   ],
   "source": [
    "with open(\"dataset/lat-livy.txt\") as fo:\n",
    "    livy_full = fo.read()\n",
    "print(\"Text snippet:\", livy_full[:200])\n",
    "print(\"Character count:\", len(livy_full))\n",
    "print(\"Approximate token count:\", len(livy_full.split()))\n",
    "livy = livy_full[:len(livy_full) // 12]\n",
    "print(\"Approximate token count:\", len(livy.split()))"
   ]
  },
  {
   "cell_type": "code",
   "execution_count": 73,
   "metadata": {},
   "outputs": [
    {
     "name": "stdout",
     "output_type": "stream",
     "text": [
      "‎𐤀 CLTK version '1.1.6'.\n",
      "Pipeline for language 'Latin' (ISO: 'lat'): `LatinNormalizeProcess`, `LatinStanzaProcess`, `LatinEmbeddingsProcess`, `StopsProcess`, `LatinLexiconProcess`.\n",
      "[<class 'cltk.alphabet.processes.LatinNormalizeProcess'>, <class 'cltk.dependency.processes.LatinStanzaProcess'>, <class 'cltk.embeddings.processes.LatinEmbeddingsProcess'>, <class 'cltk.stops.processes.StopsProcess'>]\n"
     ]
    }
   ],
   "source": [
    "cltk_nlp = NLP(language=\"lat\")\n",
    "cltk_nlp.pipeline.processes.pop(-1)\n",
    "print(cltk_nlp.pipeline.processes)\n",
    "cltk_doc = cltk_nlp.analyze(text=livy)"
   ]
  },
  {
   "cell_type": "code",
   "execution_count": 74,
   "metadata": {},
   "outputs": [],
   "source": [
    "remove=',:.;?!'\n",
    "cleaned=[i for i in cltk_doc.tokens if i not in remove]"
   ]
  },
  {
   "cell_type": "code",
   "execution_count": 75,
   "metadata": {},
   "outputs": [
    {
     "name": "stdout",
     "output_type": "stream",
     "text": [
      "['_get_words_attribute', 'embeddings', 'embeddings_model', 'language', 'lemmata', 'morphosyntactic_features', 'normalized_text', 'pipeline', 'pos', 'raw', 'sentence_embeddings', 'sentences', 'sentences_strings', 'sentences_tokens', 'stanza_doc', 'stems', 'tokens', 'tokens_stops_filtered', 'words']\n"
     ]
    }
   ],
   "source": [
    "print([x for x in dir(cltk_doc) if not x.startswith(\"__\")])"
   ]
  },
  {
   "cell_type": "code",
   "execution_count": 77,
   "metadata": {
    "collapsed": false,
    "pycharm": {
     "name": "#%%\n"
    }
   },
   "outputs": [
    {
     "name": "stdout",
     "output_type": "stream",
     "text": [
      "['Iam', 'primus', 'omnis', 'satis', 'consto']\n",
      "['ADV', 'ADJ', 'PRON', 'ADV', 'VERB']\n",
      "{Case: [genitive], Gender: [neuter], Number: [plural], PrononimalType: [indefinite]}\n",
      "[['Iam', 'primum', 'omnium', 'satis', 'constat', 'Troia', 'capta', 'in', 'ceteros', 'saevitum', 'esse', 'Troianos', ',', 'duobus', ',', 'Aeneae', 'Antenorique', ',', 'et', 'vetusti', 'iure', 'hospitii', 'et', 'quia', 'pacis', 'reddendaeque', 'Helenae', 'semper', 'auctores', 'fuerant', ',', 'omne', 'ius', 'belli', 'Achiuos', 'abstinuisse', ';'], ['casibus', 'deinde', 'variis', 'Antenorem', 'cum', 'multitudine', 'Enetum', ',', 'qui', 'seditione', 'ex', 'Paphlagonia', 'pulsi', 'et', 'sedes', 'et', 'ducem', 'rege', 'Pylaemene', 'ad', 'Troiam', 'amisso', 'quaerebant', ',', 'venisse', 'in', 'intimum', 'maris', 'Hadriatici', 'sinum', ',', 'Euganeisque', 'qui', 'inter', 'mare', 'Alpesque', 'incolebant', 'pulsis', 'Enetos', 'Troianosque', 'eas', 'tenuisse', 'terras', '.']]\n"
     ]
    }
   ],
   "source": [
    "print(cltk_doc.lemmata[:5])\n",
    "print(cltk_doc.pos[:5])\n",
    "print(cltk_doc.morphosyntactic_features[2])\n",
    "print(cltk_doc.sentences_tokens[:2])\n"
   ]
  },
  {
   "cell_type": "code",
   "execution_count": 78,
   "metadata": {},
   "outputs": [
    {
     "name": "stdout",
     "output_type": "stream",
     "text": [
      "Original: Ibi egressi Troiani , ut quibus ab immenso prope errore nihil praeter arma et naues superesset , cum praedam ex agris agerent , Latinus rex Aboriginesque qui tum ea tenebant loca ad arcendam vim advenarum armati ex urbe atque agris concurrunt .\n",
      "\n",
      "Translation: Landing there, the Trojans, as men who, after their all but immeasurable wanderings, had nothing left but their swords and ships, were driving booty from the fields, when King Latinus and the Aborigines, who then occupied that country, rushed down from their city and their fields to repel with arms the violence of the invaders.\n"
     ]
    }
   ],
   "source": [
    "print(\"Original:\", cltk_doc.sentences_strings[5])\n",
    "print(\"\")\n",
    "print(\"Translation:\", \"Landing there, the Trojans, as men who, after their all but immeasurable wanderings, had nothing left but their swords and ships, were driving booty from the fields, when King Latinus and the Aborigines, who then occupied that country, rushed down from their city and their fields to repel with arms the violence of the invaders.\")\n",
    "sentence_6 = cltk_doc.sentences[5]"
   ]
  },
  {
   "cell_type": "code",
   "execution_count": 79,
   "metadata": {},
   "outputs": [
    {
     "name": "stdout",
     "output_type": "stream",
     "text": [
      "Word(index_char_start=None, index_char_stop=None, index_token=40, index_sentence=5, string='concurrunt', pos=verb, lemma='concurro', stem=None, scansion=None, xpos='L3|modA|tem1|gen9', upos='VERB', dependency_relation='advcl', governor=29, features={Aspect: [imperfective], Mood: [indicative], Number: [plural], Person: [third], Tense: [present], VerbForm: [finite], Voice: [active]}, category={F: [neg], N: [neg], V: [pos]}, stop=False, named_entity=None, syllables=None, phonetic_transcription=None, definition=None)\n"
     ]
    }
   ],
   "source": [
    "a_word_concurrunt = sentence_6[40]\n",
    "print(a_word_concurrunt)"
   ]
  },
  {
   "cell_type": "code",
   "execution_count": 80,
   "metadata": {},
   "outputs": [
    {
     "name": "stdout",
     "output_type": "stream",
     "text": [
      "`Word.string`: concurrunt\n",
      "\n",
      "`Word.pos`: verb\n"
     ]
    }
   ],
   "source": [
    "print(\"`Word.string`:\", a_word_concurrunt.string)\n",
    "print(\"\")\n",
    "print(\"`Word.pos`:\", a_word_concurrunt.pos)"
   ]
  },
  {
   "cell_type": "code",
   "execution_count": 81,
   "metadata": {},
   "outputs": [
    {
     "name": "stdout",
     "output_type": "stream",
     "text": [
      "type(`Word.features`): <class 'cltk.morphology.morphosyntax.MorphosyntacticFeatureBundle'>\n",
      "\n",
      "`Word.features`: {Aspect: [imperfective], Mood: [indicative], Number: [plural], Person: [third], Tense: [present], VerbForm: [finite], Voice: [active]}\n"
     ]
    }
   ],
   "source": [
    "print(\"type(`Word.features`):\", type(a_word_concurrunt.features))\n",
    "print(\"\")\n",
    "print(\"`Word.features`:\", a_word_concurrunt.features)"
   ]
  },
  {
   "cell_type": "code",
   "execution_count": 82,
   "metadata": {},
   "outputs": [
    {
     "name": "stdout",
     "output_type": "stream",
     "text": [
      "Mood: [indicative]\n",
      "Number: [plural]\n",
      "Person: [third]\n",
      "Tense: [present]\n",
      "VerbForm: [finite]\n",
      "Voice: [active]\n"
     ]
    }
   ],
   "source": [
    "print(\"Mood:\", a_word_concurrunt.features[\"Mood\"]) \n",
    "print(\"Number:\", a_word_concurrunt.features[\"Number\"])  \n",
    "print(\"Person:\", a_word_concurrunt.features[\"Person\"]) \n",
    "print(\"Tense:\", a_word_concurrunt.features[\"Tense\"]) \n",
    "print(\"VerbForm:\", a_word_concurrunt.features[\"VerbForm\"])  \n",
    "print(\"Voice:\", a_word_concurrunt.features[\"Voice\"]) "
   ]
  },
  {
   "cell_type": "code",
   "execution_count": 84,
   "metadata": {},
   "outputs": [
    {
     "name": "stdout",
     "output_type": "stream",
     "text": [
      "Ibi egressi Troiani , ut quibus ab immenso prope errore nihil praeter arma et naues superesset , cum praedam ex agris agerent , Latinus rex Aboriginesque qui tum ea tenebant loca ad arcendam vim advenarum armati ex urbe atque agris concurrunt .\n"
     ]
    }
   ],
   "source": [
    "print(cltk_doc.sentences_strings[5])"
   ]
  },
  {
   "cell_type": "code",
   "execution_count": 85,
   "metadata": {},
   "outputs": [],
   "source": [
    "a_tree = DependencyTree.to_tree(sentence_6)"
   ]
  },
  {
   "cell_type": "code",
   "execution_count": 87,
   "metadata": {
    "collapsed": false,
    "pycharm": {
     "name": "#%%\n"
    }
   },
   "outputs": [
    {
     "name": "stdout",
     "output_type": "stream",
     "text": [
      "root | egressi_1/verb\n",
      "    └─ advmod | Ibi_0/adverb\n",
      "    └─ nsubj:pass | Troiani_2/noun\n",
      "        └─ acl:relcl | superesset_15/verb\n",
      "            └─ punct | ,_3/punctuation\n",
      "            └─ mark | ut_4/subordinating_conjunction\n",
      "            └─ obl | quibus_5/pronoun\n",
      "            └─ obl:arg | immenso_7/adjective\n",
      "                └─ case | ab_6/adposition\n",
      "            └─ obl | errore_9/noun\n",
      "                └─ case | prope_8/adposition\n",
      "            └─ nsubj | nihil_10/pronoun\n",
      "            └─ obl | arma_12/noun\n",
      "                └─ case | praeter_11/adposition\n",
      "                └─ conj | naues_14/noun\n",
      "                    └─ cc | et_13/coordinating_conjunction\n",
      "            └─ advcl | agerent_21/verb\n",
      "                └─ punct | ,_16/punctuation\n",
      "                └─ mark | cum_17/subordinating_conjunction\n",
      "                └─ obj | praedam_18/noun\n",
      "                └─ obl | agris_20/noun\n",
      "                    └─ case | ex_19/adposition\n",
      "                └─ nsubj | rex_24/noun\n",
      "                    └─ punct | ,_22/punctuation\n",
      "                    └─ amod | Latinus_23/adjective\n",
      "                └─ obj | Aboriginesque_25/noun\n",
      "                    └─ acl:relcl | tenebant_29/verb\n",
      "                        └─ nsubj | qui_26/pronoun\n",
      "                        └─ cc | tum_27/coordinating_conjunction\n",
      "                        └─ obj | ea_28/pronoun\n",
      "                        └─ obj | loca_30/noun\n",
      "                        └─ advcl | concurrunt_40/verb\n",
      "                            └─ xcomp | armati_35/verb\n",
      "                                └─ ccomp | arcendam_32/verb\n",
      "                                    └─ mark | ad_31/adposition\n",
      "                                    └─ nsubj:pass | vim_33/noun\n",
      "                                        └─ nmod | advenarum_34/adjective\n",
      "                            └─ obl | urbe_37/noun\n",
      "                                └─ case | ex_36/adposition\n",
      "                                └─ conj | agris_39/noun\n",
      "                                    └─ cc | atque_38/coordinating_conjunction\n",
      "    └─ punct | ._41/punctuation\n"
     ]
    }
   ],
   "source": [
    "from pprint import pprint\n",
    "a_tree.print_tree()"
   ]
  }
 ],
 "metadata": {
  "kernelspec": {
   "display_name": "Python 3.10.5 64-bit",
   "language": "python",
   "name": "python3"
  },
  "language_info": {
   "codemirror_mode": {
    "name": "ipython",
    "version": 3
   },
   "file_extension": ".py",
   "mimetype": "text/x-python",
   "name": "python",
   "nbconvert_exporter": "python",
   "pygments_lexer": "ipython3",
   "version": "3.10.5"
  },
  "vscode": {
   "interpreter": {
    "hash": "f1fab01779f58bdb20f982e5ab131c47da41130547c2d672548af647ebe0e056"
   }
  }
 },
 "nbformat": 4,
 "nbformat_minor": 0
}
