{
 "cells": [
  {
   "cell_type": "code",
   "execution_count": null,
   "metadata": {
    "collapsed": false,
    "pycharm": {
     "name": "#%%\n"
    }
   },
   "outputs": [],
   "source": [
    "import keras\n",
    "import numpy as np\n",
    "import pandas as pd\n",
    "import matplotlib.pyplot as plt\n",
    "import tensorflow as tf\n",
    "from tensorflow import keras\n",
    "from tensorflow.keras import layers,preprocessing,callbacks\n",
    "import cv2"
   ]
  },
  {
   "cell_type": "code",
   "execution_count": null,
   "metadata": {
    "collapsed": false,
    "pycharm": {
     "name": "#%%\n"
    }
   },
   "outputs": [],
   "source": [
    "#df_train=pd.read_csv('emnist-balanced-train/emnist-balanced-train.csv')\n",
    "#df_test=pd.read_csv('emnist-balanced-test/emnist-balanced-test.csv')\n",
    "df_train=pd.read_csv('dataset/emnist-byclass-train/emnist-byclass-train.csv')\n",
    "df_test=pd.read_csv('dataset/emnist-byclass-test/emnist-byclass-test.csv')"
   ]
  },
  {
   "cell_type": "code",
   "execution_count": null,
   "metadata": {
    "collapsed": false,
    "pycharm": {
     "name": "#%%\n"
    }
   },
   "outputs": [],
   "source": [
    "mapping={}\n",
    "cap_alphabet=\"abcdefghijklmnopqrstuvwxyz\".upper()\n",
    "lower_alphabet='abcdefghijklmnopqrstuvwxyz'\n",
    "for i in range(10):\n",
    "    mapping[i]=i\n",
    "for number,c in enumerate(cap_alphabet):\n",
    "    mapping[number+10]=c\n",
    "for number,c in enumerate(lower_alphabet):\n",
    "    mapping[number+36]=c"
   ]
  },
  {
   "cell_type": "code",
   "execution_count": null,
   "metadata": {
    "collapsed": false,
    "pycharm": {
     "name": "#%%\n"
    }
   },
   "outputs": [],
   "source": [
    "row=100000\n",
    "temp_img=(cv2.flip(cv2.rotate(np.array(df_train.iloc[row,1:]).reshape((28,28,1)),cv2.ROTATE_90_CLOCKWISE),1))\n",
    "print(temp_img.shape)\n",
    "temp_img=temp_img.reshape((28,28,1))\n",
    "plt.imshow(temp_img,cmap='gray')\n",
    "print(temp_img.shape)\n",
    "plt.show()"
   ]
  },
  {
   "cell_type": "code",
   "execution_count": null,
   "metadata": {
    "collapsed": false,
    "pycharm": {
     "name": "#%%\n"
    }
   },
   "outputs": [],
   "source": [
    "df_train_labels=df_train.iloc[:,0]\n",
    "df_test_labels=df_test.iloc[:,0]\n",
    "train_labels_enc=tf.keras.utils.to_categorical(df_train_labels)\n",
    "test_labels_enc=tf.keras.utils.to_categorical(df_test_labels)"
   ]
  },
  {
   "cell_type": "code",
   "execution_count": null,
   "metadata": {
    "collapsed": false,
    "pycharm": {
     "name": "#%%\n"
    }
   },
   "outputs": [],
   "source": [
    "mapping={}\n",
    "cap_alphabet=\"abcdefghijklmnopqrstuvwxyz\".upper()\n",
    "lower_alphabet='abcdefghijklmnopqrstuvwxyz'\n",
    "for i in range(10):\n",
    "    mapping[i]=i\n",
    "for number,c in enumerate(cap_alphabet):\n",
    "    mapping[number+10]=c\n",
    "for number,c in enumerate(lower_alphabet):\n",
    "    mapping[number+36]=c"
   ]
  },
  {
   "cell_type": "code",
   "execution_count": null,
   "metadata": {
    "collapsed": false,
    "pycharm": {
     "name": "#%%\n"
    }
   },
   "outputs": [],
   "source": [
    "train_mat=[]\n",
    "for index,row in df_train.iterrows():\n",
    "    row=cv2.flip(cv2.rotate(np.array(df_train.iloc[index,1:]).reshape((28,28,1)),cv2.ROTATE_90_CLOCKWISE),1)\n",
    "    row=row.reshape((28,28,1))\n",
    "    train_mat.append(row)\n",
    "test_mat=[]\n",
    "for index,row in df_test.iterrows():\n",
    "    row=cv2.flip(cv2.rotate(np.array(df_test.iloc[index,1:]).reshape((28, 28,1)),cv2.ROTATE_90_CLOCKWISE),1)\n",
    "    row=row.reshape((28,28,1))\n",
    "    test_mat.append(row)\n",
    "train_mat=np.array(train_mat).astype('float32')/255.0\n",
    "test_mat=np.array(test_mat).astype('float32')/255.0"
   ]
  },
  {
   "cell_type": "code",
   "execution_count": null,
   "metadata": {
    "collapsed": false,
    "pycharm": {
     "name": "#%%\n"
    }
   },
   "outputs": [],
   "source": [
    "test_size=93057"
   ]
  },
  {
   "cell_type": "code",
   "execution_count": null,
   "metadata": {
    "collapsed": false,
    "pycharm": {
     "name": "#%%\n"
    }
   },
   "outputs": [],
   "source": [
    "print(train_mat.shape)\n",
    "print(test_mat.shape)"
   ]
  },
  {
   "cell_type": "code",
   "execution_count": null,
   "metadata": {
    "collapsed": false,
    "pycharm": {
     "name": "#%%\n"
    }
   },
   "outputs": [],
   "source": [
    "datagen = preprocessing.image.ImageDataGenerator(\n",
    "    featurewise_center=True,\n",
    "    featurewise_std_normalization=True,\n",
    "    rotation_range=20,\n",
    "    brightness_range=(30,100),\n",
    "    zoom_range=(0,30),\n",
    "    width_shift_range=0.2,\n",
    "    height_shift_range=0.2,\n",
    "    validation_split=0.2)"
   ]
  },
  {
   "cell_type": "code",
   "execution_count": null,
   "metadata": {
    "collapsed": false,
    "pycharm": {
     "name": "#%%\n"
    }
   },
   "outputs": [],
   "source": [
    "callback=callbacks.EarlyStopping(monitor='loss',patience=2)"
   ]
  },
  {
   "cell_type": "code",
   "execution_count": null,
   "metadata": {
    "collapsed": false,
    "pycharm": {
     "name": "#%%\n"
    }
   },
   "outputs": [],
   "source": [
    "model=keras.Sequential([\n",
    "    # First Convolutional Block\n",
    "    layers.Conv2D(filters=128, kernel_size=5, activation=\"relu\", padding='same',\n",
    "                  # give the input dimensions in the first layer\n",
    "                  # [height, width, color channels(RGB)]\n",
    "                  input_shape=[28, 28, 1]\n",
    "                  ),\n",
    "    layers.MaxPool2D(padding='same'),\n",
    "    layers.Conv2D(filters=128, kernel_size=5, activation=\"relu\", padding='same',\n",
    "                  ),\n",
    "    layers.MaxPool2D(padding='same'),\n",
    "    layers.Conv2D(filters=100, kernel_size=3, activation=\"relu\", padding='same'),\n",
    "    layers.MaxPool2D(padding='same'),\n",
    "    # Second Convolutional Block\n",
    "    layers.Conv2D(filters=100, kernel_size=3, activation=\"relu\", padding='same'),\n",
    "    layers.MaxPool2D(padding='same'),\n",
    "    layers.Conv2D(filters=80, kernel_size=5, activation=\"relu\", padding='same'),\n",
    "    layers.MaxPool2D(padding='same'),\n",
    "    layers.Conv2D(filters=80, kernel_size=3, activation=\"relu\", padding='same'),\n",
    "    layers.MaxPool2D(padding='same'),\n",
    "    layers.Conv2D(filters=64, kernel_size=3, activation=\"relu\", padding='same'),\n",
    "    layers.MaxPool2D(padding='same'),\n",
    "    layers.Conv2D(filters=32, kernel_size=3, activation=\"relu\", padding='same'),\n",
    "    layers.MaxPool2D(padding='same'),\n",
    "    # Third Convolutional Block\n",
    "    # Classifier Head\n",
    "    layers.Flatten(),\n",
    "    layers.Dense(units=1024, activation=\"relu\"),\n",
    "    layers.Dropout(0.2),\n",
    "    layers.BatchNormalization(),\n",
    "    layers.Dense(units=512, activation=\"relu\"),\n",
    "    layers.Dropout(0.2),\n",
    "    layers.BatchNormalization(),\n",
    "    layers.Dense(256,activation='relu'),\n",
    "    layers.Dropout(0.2),\n",
    "    layers.BatchNormalization(),\n",
    "    layers.Dense(256,activation='relu'),\n",
    "    layers.Dropout(0.2),\n",
    "    layers.BatchNormalization(),\n",
    "    layers.Dense(128,activation='relu'),\n",
    "    layers.Dropout(0.2),\n",
    "    layers.BatchNormalization(),\n",
    "    layers.Dense(64,activation='relu'),\n",
    "    layers.Dropout(0.05),\n",
    "    layers.BatchNormalization(),\n",
    "    layers.Dense(units=62, activation=\"softmax\"),\n",
    "])\n",
    "\n",
    "model.summary()"
   ]
  },
  {
   "cell_type": "code",
   "execution_count": null,
   "metadata": {
    "collapsed": false,
    "pycharm": {
     "name": "#%%\n"
    }
   },
   "outputs": [],
   "source": [
    "model.compile(\n",
    "    optimizer=tf.keras.optimizers.Adam(epsilon=0.01),\n",
    "    loss='categorical_crossentropy',\n",
    "    metrics=['accuracy']\n",
    ")"
   ]
  },
  {
   "cell_type": "code",
   "execution_count": null,
   "metadata": {
    "collapsed": false,
    "pycharm": {
     "name": "#%%\n"
    }
   },
   "outputs": [],
   "source": [
    "datagen.fit(train_mat)"
   ]
  },
  {
   "cell_type": "code",
   "execution_count": null,
   "metadata": {
    "collapsed": false,
    "pycharm": {
     "name": "#%%\n"
    }
   },
   "outputs": [],
   "source": [
    "len(train_mat)/32"
   ]
  },
  {
   "cell_type": "code",
   "execution_count": null,
   "metadata": {
    "collapsed": false,
    "pycharm": {
     "name": "#%%\n"
    }
   },
   "outputs": [],
   "source": [
    "len(train_mat)/100*2"
   ]
  },
  {
   "cell_type": "code",
   "execution_count": null,
   "metadata": {
    "collapsed": false,
    "pycharm": {
     "name": "#%%\n"
    }
   },
   "outputs": [],
   "source": [
    "model.fit(datagen.flow(train_mat, train_labels_enc, batch_size=32,\n",
    "                       subset='training'),\n",
    "          validation_data=datagen.flow(test_mat, test_labels_enc,\n",
    "                                       batch_size=32, subset='validation'),\n",
    "          steps_per_epoch=len(train_mat) / 100, epochs=3,\n",
    "          callbacks=[callback])"
   ]
  },
  {
   "cell_type": "code",
   "execution_count": null,
   "metadata": {
    "collapsed": false,
    "pycharm": {
     "name": "#%%\n"
    }
   },
   "outputs": [],
   "source": [
    "history = model.fit(\n",
    "    train_mat,\n",
    "    train_labels_enc,\n",
    "    validation_data=(test_mat[:test_size],test_labels_enc[:test_size]),\n",
    "    batch_size=64,\n",
    "    epochs=1\n",
    ")"
   ]
  },
  {
   "cell_type": "code",
   "execution_count": null,
   "metadata": {
    "collapsed": false,
    "pycharm": {
     "name": "#%%\n"
    }
   },
   "outputs": [],
   "source": [
    "val_loss,val_acc=model.evaluate(x=test_mat[test_size:],y=test_labels_enc[test_size:])"
   ]
  },
  {
   "cell_type": "code",
   "execution_count": null,
   "metadata": {
    "collapsed": false,
    "pycharm": {
     "name": "#%%\n"
    }
   },
   "outputs": [],
   "source": [
    "predictions = model.predict(test_mat)"
   ]
  },
  {
   "cell_type": "code",
   "execution_count": null,
   "metadata": {
    "collapsed": false,
    "pycharm": {
     "name": "#%%\n"
    }
   },
   "outputs": [],
   "source": [
    "x_val__ = test_mat.reshape(test_mat.shape[0], 28, 28)\n",
    "fig, axis = plt.subplots(2, 5, figsize=(12, 6))\n",
    "for i, ax in enumerate(axis.flat):\n",
    "    ax.imshow(test_mat[i], cmap='gray')\n",
    "    ax.set(title = f\"Label : {df_test_labels[i]}\\nPrediction :  {predictions[i].argmax()}\")"
   ]
  },
  {
   "cell_type": "code",
   "execution_count": null,
   "metadata": {
    "collapsed": false,
    "pycharm": {
     "name": "#%%\n"
    }
   },
   "outputs": [],
   "source": [
    "model.save('saved_model/model')"
   ]
  }
 ],
 "metadata": {
  "kernelspec": {
   "display_name": "Python 3.10.5 64-bit",
   "language": "python",
   "name": "python3"
  },
  "language_info": {
   "codemirror_mode": {
    "name": "ipython",
    "version": 2
   },
   "file_extension": ".py",
   "mimetype": "text/x-python",
   "name": "python",
   "nbconvert_exporter": "python",
   "pygments_lexer": "ipython2",
   "version": "3.10.5"
  },
  "vscode": {
   "interpreter": {
    "hash": "f1fab01779f58bdb20f982e5ab131c47da41130547c2d672548af647ebe0e056"
   }
  }
 },
 "nbformat": 4,
 "nbformat_minor": 0
}
